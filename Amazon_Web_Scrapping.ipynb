{
  "nbformat": 4,
  "nbformat_minor": 0,
  "metadata": {
    "colab": {
      "name": "Amazon Web Scrapping.ipynb",
      "provenance": [],
      "collapsed_sections": []
    },
    "kernelspec": {
      "name": "python3",
      "display_name": "Python 3"
    },
    "language_info": {
      "name": "python"
    }
  },
  "cells": [
    {
      "cell_type": "code",
      "metadata": {
        "id": "yPsBslbgRKj4"
      },
      "source": [
        "from bs4 import BeautifulSoup\n",
        "import requests\n",
        "import smtplib\n",
        "import time\n",
        "import datetime \n",
        "import csv\n",
        "import pandas as pd\n",
        "import numpy as np"
      ],
      "execution_count": 109,
      "outputs": []
    },
    {
      "cell_type": "code",
      "metadata": {
        "id": "9ODKyazzRna3"
      },
      "source": [
        "#Connect to website\n",
        "URL = 'https://www.amazon.com/Wrangler-Authentics-Sleeve-Heather-XX-Large/dp/B08RBKGRDJ/ref=sxin_9_slsr_d_i_fs4star_fa_0_B08RBKGRDJ?cv_ct_cx=shirts+for+men&dchild=1&keywords=shirts+for+men&pd_rd_i=B08RBKGRDJ&pd_rd_r=75dfcac6-0c4f-478f-80f9-342edb9ba9c3&pd_rd_w=5ZC2N&pd_rd_wg=J01QD&pf_rd_p=bcb291de-3959-4669-9d2c-6097a31ab564&pf_rd_r=GT82V93YF632Y536R295&psc=1&qid=1635301009&sprefix=shirts%2Caps%2C97&sr=1-1-e34beff1-162a-4ed3-9956-05d0830a3cd7'\n",
        "\n",
        "headers= {\"User-Agent\": \"Mozilla/5.0 (Windows NT 10.0; Win64; x64) AppleWebKit/537.36 (KHTML, like Gecko) Chrome/95.0.4638.54 Safari/537.36\", \"Accept-Encoding\":\"gzip, deflate\", \"Accept\":\"text/html,application/xhtml+xml,application/xml;q=0.9,*/*;q=0.8\", \"DNT\":\"1\",\"Connection\":\"close\", \"Upgrade-Insecure-Requests\":\"1\"}\n",
        "\n",
        "page= requests.get(URL, headers=headers)\n",
        "\n",
        "soup1=BeautifulSoup(page.content, \"html.parser\")\n",
        "soup2=BeautifulSoup(soup1.prettify(),\"html.parser\")"
      ],
      "execution_count": 71,
      "outputs": []
    },
    {
      "cell_type": "code",
      "metadata": {
        "colab": {
          "base_uri": "https://localhost:8080/"
        },
        "id": "OTETvwpK-swC",
        "outputId": "4eb978e9-18a1-4f1b-df14-3c9639fa4692"
      },
      "source": [
        "title=soup2.find(id='productTitle').get_text()\n",
        "print(title)\n",
        "price=soup2.find(id='priceblock_ourprice').get_text()\n",
        "print(price)"
      ],
      "execution_count": 73,
      "outputs": [
        {
          "output_type": "stream",
          "name": "stdout",
          "text": [
            "\n",
            "                   Wrangler Authentics Men's Short Sleeve Henley Tee\n",
            "                  \n",
            "\n",
            "                    $17.69\n",
            "                   \n"
          ]
        }
      ]
    },
    {
      "cell_type": "code",
      "metadata": {
        "colab": {
          "base_uri": "https://localhost:8080/"
        },
        "id": "U5nheO-j_Htt",
        "outputId": "666073a8-5c7d-4eec-a35a-504e8c1b160b"
      },
      "source": [
        "title=title.strip()\n",
        "price=price.strip()[1:]\n",
        "print(title)\n",
        "print(price)\n",
        "type(price)\n"
      ],
      "execution_count": 74,
      "outputs": [
        {
          "output_type": "stream",
          "name": "stdout",
          "text": [
            "Wrangler Authentics Men's Short Sleeve Henley Tee\n",
            "17.69\n"
          ]
        },
        {
          "output_type": "execute_result",
          "data": {
            "text/plain": [
              "str"
            ]
          },
          "metadata": {},
          "execution_count": 74
        }
      ]
    },
    {
      "cell_type": "code",
      "metadata": {
        "colab": {
          "base_uri": "https://localhost:8080/"
        },
        "id": "iu9iv-1GKlC4",
        "outputId": "b9e1059e-90a7-485c-dabf-9bfdefd4df18"
      },
      "source": [
        "today=datetime.date.today()\n",
        "print(today)"
      ],
      "execution_count": 75,
      "outputs": [
        {
          "output_type": "stream",
          "name": "stdout",
          "text": [
            "2021-10-27\n"
          ]
        }
      ]
    },
    {
      "cell_type": "code",
      "metadata": {
        "id": "v6WRmABpBKws"
      },
      "source": [
        "header=['Title','Price','Date']\n",
        "data=[title,price,today]\n",
        "\n",
        "with open('AmazonWebScrappingData.csv','w',newline='',encoding='UTF8') as f:\n",
        "  writer=csv.writer(f)\n",
        "  writer.writerow(header)\n",
        "  writer.writerow(data)\n",
        "  "
      ],
      "execution_count": 76,
      "outputs": []
    },
    {
      "cell_type": "code",
      "metadata": {
        "colab": {
          "base_uri": "https://localhost:8080/"
        },
        "id": "ox982IhFIEkK",
        "outputId": "0ae92d62-6cb0-4ccc-abeb-f97defd9d15e"
      },
      "source": [
        "df=pd.read_csv('AmazonWebScrappingData.csv')\n",
        "print(df)"
      ],
      "execution_count": 80,
      "outputs": [
        {
          "output_type": "stream",
          "name": "stdout",
          "text": [
            "                                               Title  Price        Date\n",
            "0  Wrangler Authentics Men's Short Sleeve Henley Tee  17.69  2021-10-27\n",
            "1                                              Title  Price        Date\n",
            "2  Wrangler Authentics Men's Short Sleeve Henley Tee  17.69  2021-10-27\n"
          ]
        }
      ]
    },
    {
      "cell_type": "code",
      "metadata": {
        "id": "KABy91R9IEoE"
      },
      "source": [
        "#Appending data to CSV\n",
        "\n",
        "with open('AmazonWebScrappingData.csv','a+',newline='',encoding='UTF8') as f:\n",
        "  writer=csv.writer(f)\n",
        "  writer.writerow(header)\n",
        "  writer.writerow(data)"
      ],
      "execution_count": 78,
      "outputs": []
    },
    {
      "cell_type": "code",
      "metadata": {
        "id": "8jRDxs7nIEpx"
      },
      "source": [
        "\n",
        "def price_check():\n",
        "  URL = 'https://www.amazon.com/Goodthreads-Standard-Fit-Long-Sleeve-Brushed-Heather/dp/B07BKMFNK1?ref_=ast_sto_dp&th=1&psc=1'\n",
        "  headers= {\"User-Agent\": \"Mozilla/5.0 (Windows NT 10.0; Win64; x64) AppleWebKit/537.36 (KHTML, like Gecko) Chrome/95.0.4638.54 Safari/537.36\", \"Accept-Encoding\":\"gzip, deflate\", \"Accept\":\"text/html,application/xhtml+xml,application/xml;q=0.9,*/*;q=0.8\", \"DNT\":\"1\",\"Connection\":\"close\", \"Upgrade-Insecure-Requests\":\"1\"}\n",
        "  page= requests.get(URL, headers=headers)\n",
        "  soup1=BeautifulSoup(page.content, \"html.parser\")\n",
        "  soup2=BeautifulSoup(soup1.prettify(),\"html.parser\")\n",
        "  title=soup2.find(id='productTitle').get_text()\n",
        "  price=soup2.find(id='priceblock_dealprice').get_text()\n",
        "  title=title.strip()\n",
        "  price=price.strip()[1:]\n",
        "  today=datetime.date.today()\n",
        "  header=['Title','Price','Date']\n",
        "  data=[title,price,today]\n",
        "  with open('AmazonWebScrappingData.csv','a+',newline='',encoding='UTF8') as f:\n",
        "    writer=csv.writer(f)\n",
        "    writer.writerow(header)\n",
        "    writer.writerow(data)\n",
        "\n",
        "\n",
        "\n",
        "  \n"
      ],
      "execution_count": 79,
      "outputs": []
    },
    {
      "cell_type": "code",
      "metadata": {
        "id": "Eip_CvmMIDLF"
      },
      "source": [
        "#to check and store the price between specific interval\n",
        "while(True):\n",
        "  price_check()\n",
        "  time.sleep(5)  #to check price every 5 secs"
      ],
      "execution_count": null,
      "outputs": []
    },
    {
      "cell_type": "code",
      "metadata": {
        "colab": {
          "base_uri": "https://localhost:8080/"
        },
        "id": "pyFGhSlzIDOa",
        "outputId": "fcd9c483-3a62-4f55-c404-1ae80b600672"
      },
      "source": [
        "df=pd.read_csv('AmazonWebScrappingData.csv')\n",
        "print(df)"
      ],
      "execution_count": 114,
      "outputs": [
        {
          "output_type": "stream",
          "name": "stdout",
          "text": [
            "                                                Title  Price        Date\n",
            "0   Wrangler Authentics Men's Short Sleeve Henley Tee  17.69  2021-10-27\n",
            "1                                               Title  Price        Date\n",
            "2   Wrangler Authentics Men's Short Sleeve Henley Tee  17.69  2021-10-27\n",
            "3                                               Title  Price        Date\n",
            "4   Goodthreads Men's Standard-Fit Long-Sleeve Hea...  25.50  2021-10-27\n",
            "5                                               Title  Price        Date\n",
            "6   Goodthreads Men's Standard-Fit Long-Sleeve Hea...  25.50  2021-10-27\n",
            "7                                               Title  Price        Date\n",
            "8   Goodthreads Men's Standard-Fit Long-Sleeve Hea...  25.50  2021-10-27\n",
            "9                                               Title  Price        Date\n",
            "10  Goodthreads Men's Standard-Fit Long-Sleeve Hea...  25.50  2021-10-27\n",
            "11                                              Title  Price        Date\n",
            "12  Goodthreads Men's Standard-Fit Long-Sleeve Hea...  25.50  2021-10-27\n",
            "13                                              Title  Price        Date\n",
            "14  Goodthreads Men's Standard-Fit Long-Sleeve Hea...  25.50  2021-10-27\n",
            "15                                              Title  Price        Date\n",
            "16  Goodthreads Men's Standard-Fit Long-Sleeve Hea...  25.50  2021-10-27\n",
            "17                                              Title  Price        Date\n",
            "18  Goodthreads Men's Standard-Fit Long-Sleeve Hea...  25.50  2021-10-27\n",
            "19                                              Title  Price        Date\n",
            "20  Goodthreads Men's Standard-Fit Long-Sleeve Hea...  25.50  2021-10-27\n",
            "21                                              Title  Price        Date\n",
            "22  Goodthreads Men's Standard-Fit Long-Sleeve Hea...  25.50  2021-10-27\n",
            "23                                              Title  Price        Date\n",
            "24  Goodthreads Men's Standard-Fit Long-Sleeve Hea...  25.50  2021-10-27\n",
            "25                                              Title  Price        Date\n",
            "26  Goodthreads Men's Standard-Fit Long-Sleeve Hea...  25.50  2021-10-27\n"
          ]
        }
      ]
    },
    {
      "cell_type": "code",
      "metadata": {
        "id": "-NFGjQLoIDQ2"
      },
      "source": [
        "#to send e-mail when price of an item drops to specific value\n",
        "def send_mail():\n",
        "    server = smtplib.SMTP_SSL('smtp.gmail.com',465)\n",
        "    server.ehlo()\n",
        "    #server.starttls()\n",
        "    server.ehlo()\n",
        "    server.login('jariwala.twinkle@gmail.com','Twinkle@1-9-1997')\n",
        "    \n",
        "    subject = \"The Shirt you want is below $10! Now is your chance to buy!\"\n",
        "    body = \"Twinkle, This is the moment we have been waiting for. Now is your chance to pick up the shirt of your dreams. Don't mess it up! Link here: https://www.amazon.com/Goodthreads-Standard-Fit-Long-Sleeve-Brushed-Heather/dp/B07BKMFNK1?ref_=ast_sto_dp&th=1&psc=1 \"\n",
        "   \n",
        "    msg = f\"Subject: {subject}\\n\\n{body}\"\n",
        "    \n",
        "    server.sendmail('jariwala.twinkle@gmail.com','jariwala.twinkle@gmail.com',msg)"
      ],
      "execution_count": 82,
      "outputs": []
    },
    {
      "cell_type": "code",
      "metadata": {
        "id": "MoFfTpmPVhmv"
      },
      "source": [
        "def price_check_mail():\n",
        "  URL = 'https://www.amazon.com/Goodthreads-Standard-Fit-Long-Sleeve-Brushed-Heather/dp/B07BKMFNK1?ref_=ast_sto_dp&th=1&psc=1'\n",
        "  headers= {\"User-Agent\": \"Mozilla/5.0 (Windows NT 10.0; Win64; x64) AppleWebKit/537.36 (KHTML, like Gecko) Chrome/95.0.4638.54 Safari/537.36\", \"Accept-Encoding\":\"gzip, deflate\", \"Accept\":\"text/html,application/xhtml+xml,application/xml;q=0.9,*/*;q=0.8\", \"DNT\":\"1\",\"Connection\":\"close\", \"Upgrade-Insecure-Requests\":\"1\"}\n",
        "  page= requests.get(URL, headers=headers)\n",
        "  soup1=BeautifulSoup(page.content, \"html.parser\")\n",
        "  soup2=BeautifulSoup(soup1.prettify(),\"html.parser\")\n",
        "  title=soup2.find(id='productTitle').get_text()\n",
        "  price=soup2.find(id='priceblock_dealprice').get_text()\n",
        "  title=title.strip()\n",
        "  price=price.strip()[1:]\n",
        "  today=datetime.date.today()\n",
        "  header=['Title','Price','Date']\n",
        "  data=[title,price,today]\n",
        "  with open('AmazonWebScrappingData.csv','a+',newline='',encoding='UTF8') as f:\n",
        "    writer=csv.writer(f)\n",
        "    writer.writerow(header)\n",
        "    writer.writerow(data)\n",
        "  if(float(price)<26.00):\n",
        "    send_mail()"
      ],
      "execution_count": 67,
      "outputs": []
    },
    {
      "cell_type": "code",
      "metadata": {
        "id": "UFxAe9sQVhtq"
      },
      "source": [
        "while(True):\n",
        "  price_check_mail()"
      ],
      "execution_count": null,
      "outputs": []
    },
    {
      "cell_type": "code",
      "metadata": {
        "id": "bO0dAXqASh7z"
      },
      "source": [
        "#Lets use this to get information of all items from amazon search webpage"
      ],
      "execution_count": null,
      "outputs": []
    },
    {
      "cell_type": "code",
      "metadata": {
        "id": "3xlIZGlPSiF7"
      },
      "source": [
        "#Scraping amazon's best selling clothing "
      ],
      "execution_count": null,
      "outputs": []
    },
    {
      "cell_type": "code",
      "metadata": {
        "id": "f-YrJLLGSiJg"
      },
      "source": [
        "no_pages=2\n",
        "def get_data(page_no):\n",
        "  r=requests.get('https://www.amazon.com/Best-Sellers-Clothing-Shoes-Jewelry/zgbs/fashion/ref=zg_bs_nav_0'+str(page_no)+'?ie=UTF8&pg='+str(page_no),headers=headers)\n",
        "  content=r.content\n",
        "  soup3=BeautifulSoup(content)\n",
        "\n",
        "  alls=[]\n",
        "  for d in soup3.find_all('div',attrs={'class':'a-section a-spacing-none aok-relative'}):\n",
        "    name=d.find('span',attrs={'class':'zg-text-center-align'})\n",
        "    n=name.find_all('img',alt=True)\n",
        "    rating = d.find('span', attrs={'class':'a-icon-alt'})\n",
        "    users_rated = d.find('a', attrs={'class':'a-size-small a-link-normal'})\n",
        "    price = d.find('span', attrs={'class':'a-size-base a-color-price'})\n",
        "    all1=[]\n",
        "    if name is not None:\n",
        "      all1.append(n[0]['alt'])\n",
        "    else:\n",
        "      all1.append(\"unknown-product\")\n",
        "    if rating is not None:\n",
        "      all1.append(rating.text)\n",
        "    else:\n",
        "      all1.append('-1')\n",
        "    if users_rated is not None:\n",
        "      all1.append(users_rated.text)\n",
        "    else:\n",
        "      all1.append('0')     \n",
        "    if price is not None:\n",
        "      all1.append(price.text)\n",
        "    else:\n",
        "      all1.append('0')\n",
        "    alls.append(all1)    \n",
        "  return alls"
      ],
      "execution_count": 100,
      "outputs": []
    },
    {
      "cell_type": "code",
      "metadata": {
        "id": "-n0uVrPjszHw"
      },
      "source": [
        "results = []\n",
        "for i in range(1, no_pages+1):\n",
        "  results.append(get_data(i))\n",
        "flatten = lambda l: [item for sublist in l for item in sublist]\n",
        "df = pd.DataFrame(flatten(results),columns=['Product Name','Rating','Customers_Rated', 'Price'])\n",
        "df.to_csv('amazon_products.csv', index=False, encoding='utf-8')"
      ],
      "execution_count": 101,
      "outputs": []
    },
    {
      "cell_type": "code",
      "metadata": {
        "id": "aAap7qgBszLS"
      },
      "source": [
        "df = pd.read_csv(\"amazon_products.csv\")"
      ],
      "execution_count": 102,
      "outputs": []
    },
    {
      "cell_type": "code",
      "metadata": {
        "colab": {
          "base_uri": "https://localhost:8080/",
          "height": 291
        },
        "id": "JRHxQvx9szWM",
        "outputId": "6eac78d4-7508-4e91-9a6e-7ac3b881d461"
      },
      "source": [
        "df.head()"
      ],
      "execution_count": 103,
      "outputs": [
        {
          "output_type": "execute_result",
          "data": {
            "text/html": [
              "<div>\n",
              "<style scoped>\n",
              "    .dataframe tbody tr th:only-of-type {\n",
              "        vertical-align: middle;\n",
              "    }\n",
              "\n",
              "    .dataframe tbody tr th {\n",
              "        vertical-align: top;\n",
              "    }\n",
              "\n",
              "    .dataframe thead th {\n",
              "        text-align: right;\n",
              "    }\n",
              "</style>\n",
              "<table border=\"1\" class=\"dataframe\">\n",
              "  <thead>\n",
              "    <tr style=\"text-align: right;\">\n",
              "      <th></th>\n",
              "      <th>Product Name</th>\n",
              "      <th>Rating</th>\n",
              "      <th>Customers_Rated</th>\n",
              "      <th>Price</th>\n",
              "    </tr>\n",
              "  </thead>\n",
              "  <tbody>\n",
              "    <tr>\n",
              "      <th>0</th>\n",
              "      <td>LINKIOM Children's Padded Jacket Fashion Print...</td>\n",
              "      <td>-1</td>\n",
              "      <td>0</td>\n",
              "      <td>$12.59 - $22.89</td>\n",
              "    </tr>\n",
              "    <tr>\n",
              "      <th>1</th>\n",
              "      <td>Hanes Men's EcoSmart Sweatshirt</td>\n",
              "      <td>4.6 out of 5 stars</td>\n",
              "      <td>105,136</td>\n",
              "      <td>$4.99 - $30.70</td>\n",
              "    </tr>\n",
              "    <tr>\n",
              "      <th>2</th>\n",
              "      <td>Crocs Unisex-Adult Men's and Women's Classic Clog</td>\n",
              "      <td>4.8 out of 5 stars</td>\n",
              "      <td>255,823</td>\n",
              "      <td>$27.74 - $102.84</td>\n",
              "    </tr>\n",
              "    <tr>\n",
              "      <th>3</th>\n",
              "      <td>Charmnight Womens High Waist Tights Fishnet St...</td>\n",
              "      <td>4.6 out of 5 stars</td>\n",
              "      <td>29,887</td>\n",
              "      <td>$5.99 - $6.99</td>\n",
              "    </tr>\n",
              "    <tr>\n",
              "      <th>4</th>\n",
              "      <td>Hanes Men's Pullover EcoSmart Hooded Sweatshirt</td>\n",
              "      <td>4.6 out of 5 stars</td>\n",
              "      <td>112,792</td>\n",
              "      <td>$12.15 - $42.41</td>\n",
              "    </tr>\n",
              "  </tbody>\n",
              "</table>\n",
              "</div>"
            ],
            "text/plain": [
              "                                        Product Name  ...             Price\n",
              "0  LINKIOM Children's Padded Jacket Fashion Print...  ...   $12.59 - $22.89\n",
              "1                    Hanes Men's EcoSmart Sweatshirt  ...    $4.99 - $30.70\n",
              "2  Crocs Unisex-Adult Men's and Women's Classic Clog  ...  $27.74 - $102.84\n",
              "3  Charmnight Womens High Waist Tights Fishnet St...  ...     $5.99 - $6.99\n",
              "4    Hanes Men's Pullover EcoSmart Hooded Sweatshirt  ...   $12.15 - $42.41\n",
              "\n",
              "[5 rows x 4 columns]"
            ]
          },
          "metadata": {},
          "execution_count": 103
        }
      ]
    },
    {
      "cell_type": "code",
      "metadata": {
        "colab": {
          "base_uri": "https://localhost:8080/",
          "height": 205
        },
        "id": "bP_6wkZiszZ0",
        "outputId": "c18ab388-5b7c-4a3c-a094-157216d16261"
      },
      "source": [
        "df['Rating']=df['Rating'].apply(lambda x:x.split()[0])\n",
        "df['Rating']=pd.to_numeric(df['Rating'])\n",
        "df[\"Price\"] = df[\"Price\"].str.replace('$', '')\n",
        "df[\"Price\"] = df[\"Price\"].str.replace(',', '')\n",
        "df['Price'] = df['Price'].apply(lambda x: x.split('.')[0])\n",
        "df['Price'] = df['Price'].astype(int)\n",
        "df[\"Customers_Rated\"] = df[\"Customers_Rated\"].str.replace(',', '')\n",
        "df['Customers_Rated'] = pd.to_numeric(df['Customers_Rated'], errors='ignore')\n",
        "df.head()"
      ],
      "execution_count": 106,
      "outputs": [
        {
          "output_type": "execute_result",
          "data": {
            "text/html": [
              "<div>\n",
              "<style scoped>\n",
              "    .dataframe tbody tr th:only-of-type {\n",
              "        vertical-align: middle;\n",
              "    }\n",
              "\n",
              "    .dataframe tbody tr th {\n",
              "        vertical-align: top;\n",
              "    }\n",
              "\n",
              "    .dataframe thead th {\n",
              "        text-align: right;\n",
              "    }\n",
              "</style>\n",
              "<table border=\"1\" class=\"dataframe\">\n",
              "  <thead>\n",
              "    <tr style=\"text-align: right;\">\n",
              "      <th></th>\n",
              "      <th>Product Name</th>\n",
              "      <th>Rating</th>\n",
              "      <th>Customers_Rated</th>\n",
              "      <th>Price</th>\n",
              "    </tr>\n",
              "  </thead>\n",
              "  <tbody>\n",
              "    <tr>\n",
              "      <th>0</th>\n",
              "      <td>LINKIOM Children's Padded Jacket Fashion Print...</td>\n",
              "      <td>-1.0</td>\n",
              "      <td>0</td>\n",
              "      <td>12</td>\n",
              "    </tr>\n",
              "    <tr>\n",
              "      <th>1</th>\n",
              "      <td>Hanes Men's EcoSmart Sweatshirt</td>\n",
              "      <td>4.6</td>\n",
              "      <td>105136</td>\n",
              "      <td>4</td>\n",
              "    </tr>\n",
              "    <tr>\n",
              "      <th>2</th>\n",
              "      <td>Crocs Unisex-Adult Men's and Women's Classic Clog</td>\n",
              "      <td>4.8</td>\n",
              "      <td>255823</td>\n",
              "      <td>27</td>\n",
              "    </tr>\n",
              "    <tr>\n",
              "      <th>3</th>\n",
              "      <td>Charmnight Womens High Waist Tights Fishnet St...</td>\n",
              "      <td>4.6</td>\n",
              "      <td>29887</td>\n",
              "      <td>5</td>\n",
              "    </tr>\n",
              "    <tr>\n",
              "      <th>4</th>\n",
              "      <td>Hanes Men's Pullover EcoSmart Hooded Sweatshirt</td>\n",
              "      <td>4.6</td>\n",
              "      <td>112792</td>\n",
              "      <td>12</td>\n",
              "    </tr>\n",
              "  </tbody>\n",
              "</table>\n",
              "</div>"
            ],
            "text/plain": [
              "                                        Product Name  ...  Price\n",
              "0  LINKIOM Children's Padded Jacket Fashion Print...  ...     12\n",
              "1                    Hanes Men's EcoSmart Sweatshirt  ...      4\n",
              "2  Crocs Unisex-Adult Men's and Women's Classic Clog  ...     27\n",
              "3  Charmnight Womens High Waist Tights Fishnet St...  ...      5\n",
              "4    Hanes Men's Pullover EcoSmart Hooded Sweatshirt  ...     12\n",
              "\n",
              "[5 rows x 4 columns]"
            ]
          },
          "metadata": {},
          "execution_count": 106
        }
      ]
    },
    {
      "cell_type": "code",
      "metadata": {
        "id": "2ecaY4YpzdOC"
      },
      "source": [
        "df.replace(str(0), np.nan, inplace=True)\n",
        "df.replace(0, np.nan, inplace=True)"
      ],
      "execution_count": 110,
      "outputs": []
    },
    {
      "cell_type": "code",
      "metadata": {
        "id": "upzuno7izdQv"
      },
      "source": [
        "df = df.dropna()"
      ],
      "execution_count": 111,
      "outputs": []
    },
    {
      "cell_type": "code",
      "metadata": {
        "colab": {
          "base_uri": "https://localhost:8080/",
          "height": 517
        },
        "id": "8F5co_TwzdTx",
        "outputId": "bf679a2f-c82d-4ba3-a3f1-38b909f544b9"
      },
      "source": [
        "#Sorting top 15 products according to price\n",
        "\n",
        "data = df.sort_values([\"Price\"], axis=0, ascending=False)[:15]\n",
        "data"
      ],
      "execution_count": 112,
      "outputs": [
        {
          "output_type": "execute_result",
          "data": {
            "text/html": [
              "<div>\n",
              "<style scoped>\n",
              "    .dataframe tbody tr th:only-of-type {\n",
              "        vertical-align: middle;\n",
              "    }\n",
              "\n",
              "    .dataframe tbody tr th {\n",
              "        vertical-align: top;\n",
              "    }\n",
              "\n",
              "    .dataframe thead th {\n",
              "        text-align: right;\n",
              "    }\n",
              "</style>\n",
              "<table border=\"1\" class=\"dataframe\">\n",
              "  <thead>\n",
              "    <tr style=\"text-align: right;\">\n",
              "      <th></th>\n",
              "      <th>Product Name</th>\n",
              "      <th>Rating</th>\n",
              "      <th>Customers_Rated</th>\n",
              "      <th>Price</th>\n",
              "    </tr>\n",
              "  </thead>\n",
              "  <tbody>\n",
              "    <tr>\n",
              "      <th>18</th>\n",
              "      <td>Just Love Adult Onesie Costume</td>\n",
              "      <td>4.5</td>\n",
              "      <td>4177.0</td>\n",
              "      <td>59</td>\n",
              "    </tr>\n",
              "    <tr>\n",
              "      <th>95</th>\n",
              "      <td>Hey Dude Men's Wally Sox Shoes Multiple Colors</td>\n",
              "      <td>4.8</td>\n",
              "      <td>45340.0</td>\n",
              "      <td>54</td>\n",
              "    </tr>\n",
              "    <tr>\n",
              "      <th>47</th>\n",
              "      <td>Repel Umbrella Windproof Travel Umbrella - Com...</td>\n",
              "      <td>4.6</td>\n",
              "      <td>18276.0</td>\n",
              "      <td>32</td>\n",
              "    </tr>\n",
              "    <tr>\n",
              "      <th>41</th>\n",
              "      <td>Repel Umbrella Windproof Travel Umbrella - Com...</td>\n",
              "      <td>4.6</td>\n",
              "      <td>30226.0</td>\n",
              "      <td>32</td>\n",
              "    </tr>\n",
              "    <tr>\n",
              "      <th>62</th>\n",
              "      <td>Amazon Essentials Women's Lightweight Long-Sle...</td>\n",
              "      <td>4.5</td>\n",
              "      <td>7269.0</td>\n",
              "      <td>31</td>\n",
              "    </tr>\n",
              "    <tr>\n",
              "      <th>82</th>\n",
              "      <td>Amazon Essentials Boys' Heavy-Weight Hooded Pu...</td>\n",
              "      <td>4.8</td>\n",
              "      <td>3020.0</td>\n",
              "      <td>30</td>\n",
              "    </tr>\n",
              "    <tr>\n",
              "      <th>13</th>\n",
              "      <td>Legendary Whitetails Men's Buck Camp Flannel S...</td>\n",
              "      <td>4.6</td>\n",
              "      <td>41554.0</td>\n",
              "      <td>29</td>\n",
              "    </tr>\n",
              "    <tr>\n",
              "      <th>30</th>\n",
              "      <td>Levi's Men's 505 Regular Fit Jeans</td>\n",
              "      <td>4.6</td>\n",
              "      <td>72553.0</td>\n",
              "      <td>29</td>\n",
              "    </tr>\n",
              "    <tr>\n",
              "      <th>2</th>\n",
              "      <td>Crocs Unisex-Adult Men's and Women's Classic Clog</td>\n",
              "      <td>4.8</td>\n",
              "      <td>255823.0</td>\n",
              "      <td>27</td>\n",
              "    </tr>\n",
              "    <tr>\n",
              "      <th>73</th>\n",
              "      <td>Fuinloth Women's Quilted Vest, Stand Collar Li...</td>\n",
              "      <td>4.5</td>\n",
              "      <td>12911.0</td>\n",
              "      <td>27</td>\n",
              "    </tr>\n",
              "    <tr>\n",
              "      <th>64</th>\n",
              "      <td>Levi's Men's 550 Relaxed Fit Jeans</td>\n",
              "      <td>4.6</td>\n",
              "      <td>48330.0</td>\n",
              "      <td>26</td>\n",
              "    </tr>\n",
              "    <tr>\n",
              "      <th>78</th>\n",
              "      <td>Wrangler Authentics Men's Regular Fit Comfort ...</td>\n",
              "      <td>4.6</td>\n",
              "      <td>40084.0</td>\n",
              "      <td>25</td>\n",
              "    </tr>\n",
              "    <tr>\n",
              "      <th>26</th>\n",
              "      <td>Amoretu Women Summer Tunic Dress V Neck Casual...</td>\n",
              "      <td>3.9</td>\n",
              "      <td>37940.0</td>\n",
              "      <td>23</td>\n",
              "    </tr>\n",
              "    <tr>\n",
              "      <th>98</th>\n",
              "      <td>Pleated Tennis Skirts for Women with Pockets S...</td>\n",
              "      <td>4.3</td>\n",
              "      <td>6037.0</td>\n",
              "      <td>23</td>\n",
              "    </tr>\n",
              "    <tr>\n",
              "      <th>92</th>\n",
              "      <td>Champion Men's Powerblend Fleece Pullover Hood...</td>\n",
              "      <td>4.8</td>\n",
              "      <td>36410.0</td>\n",
              "      <td>22</td>\n",
              "    </tr>\n",
              "  </tbody>\n",
              "</table>\n",
              "</div>"
            ],
            "text/plain": [
              "                                         Product Name  ...  Price\n",
              "18                     Just Love Adult Onesie Costume  ...     59\n",
              "95     Hey Dude Men's Wally Sox Shoes Multiple Colors  ...     54\n",
              "47  Repel Umbrella Windproof Travel Umbrella - Com...  ...     32\n",
              "41  Repel Umbrella Windproof Travel Umbrella - Com...  ...     32\n",
              "62  Amazon Essentials Women's Lightweight Long-Sle...  ...     31\n",
              "82  Amazon Essentials Boys' Heavy-Weight Hooded Pu...  ...     30\n",
              "13  Legendary Whitetails Men's Buck Camp Flannel S...  ...     29\n",
              "30                 Levi's Men's 505 Regular Fit Jeans  ...     29\n",
              "2   Crocs Unisex-Adult Men's and Women's Classic Clog  ...     27\n",
              "73  Fuinloth Women's Quilted Vest, Stand Collar Li...  ...     27\n",
              "64                 Levi's Men's 550 Relaxed Fit Jeans  ...     26\n",
              "78  Wrangler Authentics Men's Regular Fit Comfort ...  ...     25\n",
              "26  Amoretu Women Summer Tunic Dress V Neck Casual...  ...     23\n",
              "98  Pleated Tennis Skirts for Women with Pockets S...  ...     23\n",
              "92  Champion Men's Powerblend Fleece Pullover Hood...  ...     22\n",
              "\n",
              "[15 rows x 4 columns]"
            ]
          },
          "metadata": {},
          "execution_count": 112
        }
      ]
    },
    {
      "cell_type": "code",
      "metadata": {
        "colab": {
          "base_uri": "https://localhost:8080/",
          "height": 673
        },
        "id": "xouBkNzSzdXK",
        "outputId": "e4f35e7f-f9d5-49d1-a7d1-1824804bf174"
      },
      "source": [
        "#First 20 products according to Ratings\n",
        "data1 = df.sort_values([\"Customers_Rated\"], axis=0, ascending=False)[:20]\n",
        "data1"
      ],
      "execution_count": 113,
      "outputs": [
        {
          "output_type": "execute_result",
          "data": {
            "text/html": [
              "<div>\n",
              "<style scoped>\n",
              "    .dataframe tbody tr th:only-of-type {\n",
              "        vertical-align: middle;\n",
              "    }\n",
              "\n",
              "    .dataframe tbody tr th {\n",
              "        vertical-align: top;\n",
              "    }\n",
              "\n",
              "    .dataframe thead th {\n",
              "        text-align: right;\n",
              "    }\n",
              "</style>\n",
              "<table border=\"1\" class=\"dataframe\">\n",
              "  <thead>\n",
              "    <tr style=\"text-align: right;\">\n",
              "      <th></th>\n",
              "      <th>Product Name</th>\n",
              "      <th>Rating</th>\n",
              "      <th>Customers_Rated</th>\n",
              "      <th>Price</th>\n",
              "    </tr>\n",
              "  </thead>\n",
              "  <tbody>\n",
              "    <tr>\n",
              "      <th>2</th>\n",
              "      <td>Crocs Unisex-Adult Men's and Women's Classic Clog</td>\n",
              "      <td>4.8</td>\n",
              "      <td>255823.0</td>\n",
              "      <td>27</td>\n",
              "    </tr>\n",
              "    <tr>\n",
              "      <th>28</th>\n",
              "      <td>Gildan Men's Crew T-Shirts, Multipack</td>\n",
              "      <td>4.6</td>\n",
              "      <td>164955.0</td>\n",
              "      <td>14</td>\n",
              "    </tr>\n",
              "    <tr>\n",
              "      <th>22</th>\n",
              "      <td>Dickies Men's Dri-tech Moisture Control Crew S...</td>\n",
              "      <td>4.7</td>\n",
              "      <td>132866.0</td>\n",
              "      <td>10</td>\n",
              "    </tr>\n",
              "    <tr>\n",
              "      <th>12</th>\n",
              "      <td>Fruit of the Loom Men's Tag-Free Boxer Shorts ...</td>\n",
              "      <td>4.7</td>\n",
              "      <td>130365.0</td>\n",
              "      <td>9</td>\n",
              "    </tr>\n",
              "    <tr>\n",
              "      <th>4</th>\n",
              "      <td>Hanes Men's Pullover EcoSmart Hooded Sweatshirt</td>\n",
              "      <td>4.6</td>\n",
              "      <td>112792.0</td>\n",
              "      <td>12</td>\n",
              "    </tr>\n",
              "    <tr>\n",
              "      <th>9</th>\n",
              "      <td>Carhartt Men's Knit Cuffed Beanie</td>\n",
              "      <td>4.8</td>\n",
              "      <td>110465.0</td>\n",
              "      <td>16</td>\n",
              "    </tr>\n",
              "    <tr>\n",
              "      <th>1</th>\n",
              "      <td>Hanes Men's EcoSmart Sweatshirt</td>\n",
              "      <td>4.6</td>\n",
              "      <td>105136.0</td>\n",
              "      <td>4</td>\n",
              "    </tr>\n",
              "    <tr>\n",
              "      <th>43</th>\n",
              "      <td>Carhartt Men's K87 Workwear Short Sleeve T-Shi...</td>\n",
              "      <td>4.7</td>\n",
              "      <td>100013.0</td>\n",
              "      <td>14</td>\n",
              "    </tr>\n",
              "    <tr>\n",
              "      <th>46</th>\n",
              "      <td>Wrangler Authentics Men's Classic 5-Pocket Rel...</td>\n",
              "      <td>4.6</td>\n",
              "      <td>92197.0</td>\n",
              "      <td>20</td>\n",
              "    </tr>\n",
              "    <tr>\n",
              "      <th>68</th>\n",
              "      <td>Amazon Essentials Women's Cotton Stretch Bikin...</td>\n",
              "      <td>4.6</td>\n",
              "      <td>87979.0</td>\n",
              "      <td>11</td>\n",
              "    </tr>\n",
              "    <tr>\n",
              "      <th>55</th>\n",
              "      <td>Crocs Unisex Clog</td>\n",
              "      <td>4.8</td>\n",
              "      <td>86859.0</td>\n",
              "      <td>21</td>\n",
              "    </tr>\n",
              "    <tr>\n",
              "      <th>6</th>\n",
              "      <td>Gildan Men's Ultra Cotton T-Shirt, Style G2400</td>\n",
              "      <td>4.6</td>\n",
              "      <td>80471.0</td>\n",
              "      <td>10</td>\n",
              "    </tr>\n",
              "    <tr>\n",
              "      <th>33</th>\n",
              "      <td>Gildan Men's V-Neck T-Shirts, Multipack</td>\n",
              "      <td>4.5</td>\n",
              "      <td>79113.0</td>\n",
              "      <td>11</td>\n",
              "    </tr>\n",
              "    <tr>\n",
              "      <th>52</th>\n",
              "      <td>Leggings Depot Women's Printed Solid Activewea...</td>\n",
              "      <td>4.4</td>\n",
              "      <td>78283.0</td>\n",
              "      <td>8</td>\n",
              "    </tr>\n",
              "    <tr>\n",
              "      <th>44</th>\n",
              "      <td>Hanes Men's Full-Zip Eco-Smart Hoodie</td>\n",
              "      <td>4.6</td>\n",
              "      <td>74905.0</td>\n",
              "      <td>12</td>\n",
              "    </tr>\n",
              "    <tr>\n",
              "      <th>30</th>\n",
              "      <td>Levi's Men's 505 Regular Fit Jeans</td>\n",
              "      <td>4.6</td>\n",
              "      <td>72553.0</td>\n",
              "      <td>29</td>\n",
              "    </tr>\n",
              "    <tr>\n",
              "      <th>50</th>\n",
              "      <td>Signature by Levi Strauss &amp; Co. Gold Label Wom...</td>\n",
              "      <td>4.2</td>\n",
              "      <td>69395.0</td>\n",
              "      <td>21</td>\n",
              "    </tr>\n",
              "    <tr>\n",
              "      <th>34</th>\n",
              "      <td>SATINA High Waisted Leggings for Women - Soft ...</td>\n",
              "      <td>4.3</td>\n",
              "      <td>67718.0</td>\n",
              "      <td>9</td>\n",
              "    </tr>\n",
              "    <tr>\n",
              "      <th>5</th>\n",
              "      <td>Gildan Men's Fleece Hooded Sweatshirt, Style G...</td>\n",
              "      <td>4.6</td>\n",
              "      <td>67420.0</td>\n",
              "      <td>11</td>\n",
              "    </tr>\n",
              "    <tr>\n",
              "      <th>77</th>\n",
              "      <td>Fruit of the Loom Men's Stay Tucked Crew T-Shirt</td>\n",
              "      <td>4.7</td>\n",
              "      <td>62760.0</td>\n",
              "      <td>14</td>\n",
              "    </tr>\n",
              "  </tbody>\n",
              "</table>\n",
              "</div>"
            ],
            "text/plain": [
              "                                         Product Name  ...  Price\n",
              "2   Crocs Unisex-Adult Men's and Women's Classic Clog  ...     27\n",
              "28              Gildan Men's Crew T-Shirts, Multipack  ...     14\n",
              "22  Dickies Men's Dri-tech Moisture Control Crew S...  ...     10\n",
              "12  Fruit of the Loom Men's Tag-Free Boxer Shorts ...  ...      9\n",
              "4     Hanes Men's Pullover EcoSmart Hooded Sweatshirt  ...     12\n",
              "9                   Carhartt Men's Knit Cuffed Beanie  ...     16\n",
              "1                     Hanes Men's EcoSmart Sweatshirt  ...      4\n",
              "43  Carhartt Men's K87 Workwear Short Sleeve T-Shi...  ...     14\n",
              "46  Wrangler Authentics Men's Classic 5-Pocket Rel...  ...     20\n",
              "68  Amazon Essentials Women's Cotton Stretch Bikin...  ...     11\n",
              "55                                  Crocs Unisex Clog  ...     21\n",
              "6      Gildan Men's Ultra Cotton T-Shirt, Style G2400  ...     10\n",
              "33            Gildan Men's V-Neck T-Shirts, Multipack  ...     11\n",
              "52  Leggings Depot Women's Printed Solid Activewea...  ...      8\n",
              "44              Hanes Men's Full-Zip Eco-Smart Hoodie  ...     12\n",
              "30                 Levi's Men's 505 Regular Fit Jeans  ...     29\n",
              "50  Signature by Levi Strauss & Co. Gold Label Wom...  ...     21\n",
              "34  SATINA High Waisted Leggings for Women - Soft ...  ...      9\n",
              "5   Gildan Men's Fleece Hooded Sweatshirt, Style G...  ...     11\n",
              "77   Fruit of the Loom Men's Stay Tucked Crew T-Shirt  ...     14\n",
              "\n",
              "[20 rows x 4 columns]"
            ]
          },
          "metadata": {},
          "execution_count": 113
        }
      ]
    },
    {
      "cell_type": "code",
      "metadata": {
        "id": "ZxsD7PEp0RKh"
      },
      "source": [
        ""
      ],
      "execution_count": null,
      "outputs": []
    },
    {
      "cell_type": "code",
      "metadata": {
        "id": "GEVg2bJa0RN-"
      },
      "source": [
        ""
      ],
      "execution_count": null,
      "outputs": []
    }
  ]
}